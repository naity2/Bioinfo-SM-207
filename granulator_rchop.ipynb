{
 "cells": [
  {
   "cell_type": "code",
   "execution_count": 1,
   "id": "00de9296-58bf-42d7-9b27-2efdd546d576",
   "metadata": {
    "vscode": {
     "languageId": "r"
    }
   },
   "outputs": [],
   "source": [
    "suppressPackageStartupMessages({\n",
    "    library(granulator)\n",
    "})\n"
   ]
  },
  {
   "cell_type": "code",
   "execution_count": 2,
   "id": "74aafd1f-05ac-4b42-8301-b417d3ec0142",
   "metadata": {
    "vscode": {
     "languageId": "r"
    }
   },
   "outputs": [
    {
     "data": {
      "text/html": [
       "'ABIS dataset was loaded successfully.'"
      ],
      "text/latex": [
       "'ABIS dataset was loaded successfully.'"
      ],
      "text/markdown": [
       "'ABIS dataset was loaded successfully.'"
      ],
      "text/plain": [
       "[1] \"ABIS dataset was loaded successfully.\""
      ]
     },
     "metadata": {},
     "output_type": "display_data"
    }
   ],
   "source": [
    "load_ABIS()\n"
   ]
  },
  {
   "cell_type": "code",
   "execution_count": 3,
   "id": "04624cc1-3b13-4922-a1dd-d67f02d145b9",
   "metadata": {
    "vscode": {
     "languageId": "r"
    }
   },
   "outputs": [],
   "source": [
    "# create list if multiple signature matrices to test simultaneously\n",
    "sigList <- list(\n",
    "  ABIS_S0 = sigMatrix_ABIS_S0,\n",
    "  ABIS_S1 = sigMatrix_ABIS_S1,\n",
    "  ABIS_S2 = sigMatrix_ABIS_S2,\n",
    "  ABIS_S3 = sigMatrix_ABIS_S3\n",
    ")\n"
   ]
  },
  {
   "cell_type": "code",
   "execution_count": 4,
   "id": "eed0c148-6089-4c5b-9f0f-efbd0c5306c2",
   "metadata": {
    "vscode": {
     "languageId": "r"
    }
   },
   "outputs": [],
   "source": [
    "data_path <- \"/home/ubuntu/data/bioinfo_sm207\""
   ]
  },
  {
   "cell_type": "code",
   "execution_count": 5,
   "id": "f447bb4c-50d1-45b8-897d-3326731713ce",
   "metadata": {
    "vscode": {
     "languageId": "r"
    }
   },
   "outputs": [
    {
     "data": {
      "text/html": [
       "<style>\n",
       ".list-inline {list-style: none; margin:0; padding: 0}\n",
       ".list-inline>li {display: inline-block}\n",
       ".list-inline>li:not(:last-child)::after {content: \"\\00b7\"; padding: 0 .5ex}\n",
       "</style>\n",
       "<ol class=list-inline><li>'schmitz'</li><li>'reddy'</li></ol>\n"
      ],
      "text/latex": [
       "\\begin{enumerate*}\n",
       "\\item 'schmitz'\n",
       "\\item 'reddy'\n",
       "\\end{enumerate*}\n"
      ],
      "text/markdown": [
       "1. 'schmitz'\n",
       "2. 'reddy'\n",
       "\n",
       "\n"
      ],
      "text/plain": [
       "[1] \"schmitz\" \"reddy\"  "
      ]
     },
     "metadata": {},
     "output_type": "display_data"
    }
   ],
   "source": [
    "datasets <- c(\"schmitz\", \"reddy\")\n",
    "datasets\n"
   ]
  },
  {
   "cell_type": "code",
   "execution_count": 6,
   "id": "a06fb5ef-6397-45eb-9c0a-5f7a4460daa9",
   "metadata": {
    "vscode": {
     "languageId": "r"
    }
   },
   "outputs": [
    {
     "name": "stderr",
     "output_type": "stream",
     "text": [
      "Warning message in max(rowSums(x), na.rm = TRUE):\n",
      "“no non-missing arguments to max; returning -Inf”\n",
      "Warning message in max(rowSums(x), na.rm = TRUE):\n",
      "“no non-missing arguments to max; returning -Inf”\n",
      "Warning message in max(rowSums(x), na.rm = TRUE):\n",
      "“no non-missing arguments to max; returning -Inf”\n",
      "Warning message in max(rowSums(x), na.rm = TRUE):\n",
      "“no non-missing arguments to max; returning -Inf”\n"
     ]
    }
   ],
   "source": [
    "for (dataset in datasets) {\n",
    "    data <- read.delim(file.path(data_path, paste0(dataset, \"_tpm.txt\")), row.names = 1)\n",
    "    mat <- as.matrix(data)\n",
    "    decon <- suppressMessages(deconvolute(m = mat, sigMatrix = sigList, use_cores = 8))\n",
    "    # create output directory\n",
    "    outdir <- file.path(data_path, \"granulator_outs\", dataset)\n",
    "    dir.create(outdir, showWarnings = FALSE)\n",
    "    # save to files\n",
    "    for (name in names(decon$proportions)) {\n",
    "        df <- decon$proportions[[name]]\n",
    "        write.csv(df, file.path(outdir, paste0(name, \".csv\")))\n",
    "    }\n",
    "}\n"
   ]
  },
  {
   "cell_type": "code",
   "execution_count": null,
   "id": "582900d9",
   "metadata": {
    "vscode": {
     "languageId": "r"
    }
   },
   "outputs": [],
   "source": []
  }
 ],
 "metadata": {
  "kernelspec": {
   "display_name": "R",
   "language": "R",
   "name": "ir"
  },
  "language_info": {
   "codemirror_mode": "r",
   "file_extension": ".r",
   "mimetype": "text/x-r-source",
   "name": "R",
   "pygments_lexer": "r",
   "version": "4.3.1"
  }
 },
 "nbformat": 4,
 "nbformat_minor": 5
}
